{
 "cells": [
  {
   "cell_type": "code",
   "execution_count": null,
   "id": "2ea3b9d8",
   "metadata": {},
   "outputs": [],
   "source": [
    "# Addition\n",
    "4 + 4"
   ]
  },
  {
   "cell_type": "code",
   "execution_count": null,
   "id": "326e634b",
   "metadata": {},
   "outputs": [],
   "source": [
    "# Substraction\n",
    "4 - 4"
   ]
  },
  {
   "cell_type": "code",
   "execution_count": null,
   "id": "25e68320",
   "metadata": {},
   "outputs": [],
   "source": [
    "# Multiplication\n",
    "4 * 4"
   ]
  },
  {
   "cell_type": "code",
   "execution_count": null,
   "id": "1877105f",
   "metadata": {},
   "outputs": [],
   "source": [
    "# Division\n",
    "4 / 4"
   ]
  },
  {
   "cell_type": "code",
   "execution_count": null,
   "id": "f026ce9c",
   "metadata": {},
   "outputs": [],
   "source": [
    "# Remainder\n",
    "10 % 3"
   ]
  }
 ],
 "metadata": {
  "kernelspec": {
   "display_name": "Python 3.9.12 ('base')",
   "language": "python",
   "name": "python3"
  },
  "language_info": {
   "codemirror_mode": {
    "name": "ipython",
    "version": 3
   },
   "file_extension": ".py",
   "mimetype": "text/x-python",
   "name": "python",
   "nbconvert_exporter": "python",
   "pygments_lexer": "ipython3",
   "version": "3.9.12"
  },
  "vscode": {
   "interpreter": {
    "hash": "ad2bdc8ecc057115af97d19610ffacc2b4e99fae6737bb82f5d7fb13d2f2c186"
   }
  }
 },
 "nbformat": 4,
 "nbformat_minor": 5
}
